{
  "nbformat": 4,
  "nbformat_minor": 0,
  "metadata": {
    "colab": {
      "name": "matrix-rank-factorization.ipynb",
      "provenance": [],
      "toc_visible": true,
      "authorship_tag": "ABX9TyMNTvf8UP17h+RgFK+577Ax",
      "include_colab_link": true
    },
    "kernelspec": {
      "name": "python3",
      "display_name": "Python 3"
    },
    "language_info": {
      "name": "python"
    }
  },
  "cells": [
    {
      "cell_type": "markdown",
      "metadata": {
        "id": "view-in-github",
        "colab_type": "text"
      },
      "source": [
        "<a href=\"https://colab.research.google.com/github/liminma/python-linear-algebra-probability-statistics/blob/main/matrix_rank_factorization.ipynb\" target=\"_parent\"><img src=\"https://colab.research.google.com/assets/colab-badge.svg\" alt=\"Open In Colab\"/></a>"
      ]
    },
    {
      "cell_type": "markdown",
      "metadata": {
        "id": "0IX0XvyKWyc4"
      },
      "source": [
        "# Matrix rank factorization"
      ]
    },
    {
      "cell_type": "markdown",
      "metadata": {
        "id": "4dpFDpFETDA5"
      },
      "source": [
        "A matrix can be factorized as $A = C*R$, where $C$ is a basis of the column space, and $R$ is row-reduced echelon form of A without zero rows {cite}`strang2019linear`. All three matrices have the same rank",
        "\n",
        "$$\n",
        "rank(A) = rank(C) = rank(R)",
        "$$\n"
      ]
    },
    {
      "cell_type": "code",
      "metadata": {
        "id": "xJpmT-QFSpuB"
      },
      "source": [
        "import numpy  as np\n",
        "from sympy import Matrix\n",
        "from sympy.matrices import randMatrix\n",
        "from sympy import init_printing\n",
        "init_printing()"
      ],
      "execution_count": 3,
      "outputs": []
    },
    {
      "cell_type": "code",
      "metadata": {
        "colab": {
          "base_uri": "https://localhost:8080/",
          "height": 78
        },
        "id": "1_5A3A_lT1AN",
        "outputId": "e9592df2-8cbf-4b68-c917-04424b3e53bd"
      },
      "source": [
        "# a random matrix A\n",
        "A = randMatrix(3,4)\n",
        "A"
      ],
      "execution_count": 6,
      "outputs": [
        {
          "output_type": "execute_result",
          "data": {
            "text/latex": "$\\displaystyle \\left[\\begin{matrix}89 & 80 & 21 & 27\\\\8 & 53 & 33 & 6\\\\74 & 0 & 23 & 60\\end{matrix}\\right]$",
            "text/plain": [
              "⎡89  80  21  27⎤\n",
              "⎢              ⎥\n",
              "⎢8   53  33  6 ⎥\n",
              "⎢              ⎥\n",
              "⎣74  0   23  60⎦"
            ]
          },
          "metadata": {
            "tags": []
          },
          "execution_count": 6
        }
      ]
    },
    {
      "cell_type": "code",
      "metadata": {
        "colab": {
          "base_uri": "https://localhost:8080/",
          "height": 95
        },
        "id": "qwECrS0DUfVS",
        "outputId": "b08cc301-f4c3-4a5e-dd44-d901ec2268ea"
      },
      "source": [
        "rref_matrix, rref_pivots = Matrix.rref(A)\n",
        "print(\"pivots:\", rref_pivots)\n",
        "rref_matrix"
      ],
      "execution_count": 11,
      "outputs": [
        {
          "output_type": "stream",
          "text": [
            "pivots: (0, 1, 2)\n"
          ],
          "name": "stdout"
        },
        {
          "output_type": "execute_result",
          "data": {
            "text/latex": "$\\displaystyle \\left[\\begin{matrix}1 & 0 & 0 & \\frac{37831}{68923}\\\\0 & 1 & 0 & - \\frac{34072}{68923}\\\\0 & 0 & 1 & \\frac{58082}{68923}\\end{matrix}\\right]$",
            "text/plain": [
              "⎡          37831 ⎤\n",
              "⎢1  0  0   ───── ⎥\n",
              "⎢          68923 ⎥\n",
              "⎢                ⎥\n",
              "⎢         -34072 ⎥\n",
              "⎢0  1  0  ───────⎥\n",
              "⎢          68923 ⎥\n",
              "⎢                ⎥\n",
              "⎢          58082 ⎥\n",
              "⎢0  0  1   ───── ⎥\n",
              "⎣          68923 ⎦"
            ]
          },
          "metadata": {
            "tags": []
          },
          "execution_count": 11
        }
      ]
    },
    {
      "cell_type": "code",
      "metadata": {
        "colab": {
          "base_uri": "https://localhost:8080/",
          "height": 78
        },
        "id": "ATFMzJtWUphF",
        "outputId": "f40b72d6-1464-4c6f-e871-0c65c1ae856a"
      },
      "source": [
        "C = A[:, rref_pivots]\n",
        "C"
      ],
      "execution_count": 14,
      "outputs": [
        {
          "output_type": "execute_result",
          "data": {
            "text/latex": "$\\displaystyle \\left[\\begin{matrix}89 & 80 & 21\\\\8 & 53 & 33\\\\74 & 0 & 23\\end{matrix}\\right]$",
            "text/plain": [
              "⎡89  80  21⎤\n",
              "⎢          ⎥\n",
              "⎢8   53  33⎥\n",
              "⎢          ⎥\n",
              "⎣74  0   23⎦"
            ]
          },
          "metadata": {
            "tags": []
          },
          "execution_count": 14
        }
      ]
    },
    {
      "cell_type": "code",
      "metadata": {
        "colab": {
          "base_uri": "https://localhost:8080/"
        },
        "id": "6FMMDKmaVOY1",
        "outputId": "db11dc12-94f2-4275-dcd0-13c091222d20"
      },
      "source": [
        "# verify A = C*R\n",
        "A == C @ rref_matrix"
      ],
      "execution_count": 20,
      "outputs": [
        {
          "output_type": "execute_result",
          "data": {
            "text/plain": [
              "True"
            ]
          },
          "metadata": {
            "tags": []
          },
          "execution_count": 20
        }
      ]
    }
  ]
}
