{
  "nbformat": 4,
  "nbformat_minor": 0,
  "metadata": {
    "colab": {
      "name": "matrix-rank-factorization.ipynb",
      "provenance": [],
      "toc_visible": true,
      "include_colab_link": true
    },
    "kernelspec": {
      "name": "python3",
      "display_name": "Python 3"
    },
    "language_info": {
      "name": "python"
    }
  },
  "cells": [
    {
      "cell_type": "markdown",
      "metadata": {
        "id": "view-in-github",
        "colab_type": "text"
      },
      "source": [
        "<a href=\"https://colab.research.google.com/github/liminma/python-linear-algebra-probability-statistics/blob/main/notebook/docs/matrix_rank_factorization.ipynb\" target=\"_parent\"><img src=\"https://colab.research.google.com/assets/colab-badge.svg\" alt=\"Open In Colab\"/></a>"
      ]
    },
    {
      "cell_type": "markdown",
      "metadata": {
        "id": "0IX0XvyKWyc4"
      },
      "source": [
        "# Matrix rank factorization"
      ]
    },
    {
      "cell_type": "markdown",
      "metadata": {
        "id": "4dpFDpFETDA5"
      },
      "source": [
        "A matrix can be factorized as $A = C*R$, where $C$ is a basis of the column space, and $R$ is row-reduced echelon form of $A$ without zero rows {cite}`strang2019linear`. All three matrices have the same rank\n",
        "\n",
        "$$\n",
        "rank(A) = rank(C) = rank(R)\n",
        "$$\n"
      ]
    },
    {
      "cell_type": "code",
      "metadata": {
        "id": "xJpmT-QFSpuB"
      },
      "source": [
        "import numpy  as np\n",
        "from sympy import Matrix\n",
        "from sympy.matrices import randMatrix\n",
        "from sympy import init_printing\n",
        "init_printing()"
      ],
      "execution_count": 2,
      "outputs": []
    },
    {
      "cell_type": "code",
      "metadata": {
        "colab": {
          "base_uri": "https://localhost:8080/",
          "height": 78
        },
        "id": "1_5A3A_lT1AN",
        "outputId": "d5ce2c4b-63e8-48a3-c6b4-23e0ac4bdb66"
      },
      "source": [
        "# a random matrix A\n",
        "A = randMatrix(3,4)\n",
        "A"
      ],
      "execution_count": 3,
      "outputs": [
        {
          "output_type": "execute_result",
          "data": {
            "text/latex": "$\\displaystyle \\left[\\begin{matrix}60 & 69 & 0 & 87\\\\19 & 82 & 75 & 30\\\\72 & 91 & 98 & 59\\end{matrix}\\right]$",
            "text/plain": [
              "⎡60  69  0   87⎤\n",
              "⎢              ⎥\n",
              "⎢19  82  75  30⎥\n",
              "⎢              ⎥\n",
              "⎣72  91  98  59⎦"
            ]
          },
          "metadata": {
            "tags": []
          },
          "execution_count": 3
        }
      ]
    },
    {
      "cell_type": "code",
      "metadata": {
        "colab": {
          "base_uri": "https://localhost:8080/",
          "height": 112
        },
        "id": "qwECrS0DUfVS",
        "outputId": "8b59e789-0a45-4242-b78f-731a01e693bd"
      },
      "source": [
        "R, rref_pivots = Matrix.rref(A)\n",
        "print(f\"pivots: {rref_pivots}\\n\" )\n",
        "R"
      ],
      "execution_count": 9,
      "outputs": [
        {
          "output_type": "stream",
          "text": [
            "pivots: (0, 1, 2)\n",
            "\n"
          ],
          "name": "stdout"
        },
        {
          "output_type": "execute_result",
          "data": {
            "text/latex": "$\\displaystyle \\left[\\begin{matrix}1 & 0 & 0 & \\frac{34637}{52797}\\\\0 & 1 & 0 & \\frac{36451}{52797}\\\\0 & 0 & 1 & - \\frac{27509}{52797}\\end{matrix}\\right]$",
            "text/plain": [
              "⎡          34637 ⎤\n",
              "⎢1  0  0   ───── ⎥\n",
              "⎢          52797 ⎥\n",
              "⎢                ⎥\n",
              "⎢          36451 ⎥\n",
              "⎢0  1  0   ───── ⎥\n",
              "⎢          52797 ⎥\n",
              "⎢                ⎥\n",
              "⎢         -27509 ⎥\n",
              "⎢0  0  1  ───────⎥\n",
              "⎣          52797 ⎦"
            ]
          },
          "metadata": {
            "tags": []
          },
          "execution_count": 9
        }
      ]
    },
    {
      "cell_type": "code",
      "metadata": {
        "colab": {
          "base_uri": "https://localhost:8080/",
          "height": 78
        },
        "id": "ATFMzJtWUphF",
        "outputId": "0ba84080-08d5-46e9-d257-fa2bee0fe99d"
      },
      "source": [
        "C = A[:, rref_pivots]\n",
        "C"
      ],
      "execution_count": 10,
      "outputs": [
        {
          "output_type": "execute_result",
          "data": {
            "text/latex": "$\\displaystyle \\left[\\begin{matrix}60 & 69 & 0\\\\19 & 82 & 75\\\\72 & 91 & 98\\end{matrix}\\right]$",
            "text/plain": [
              "⎡60  69  0 ⎤\n",
              "⎢          ⎥\n",
              "⎢19  82  75⎥\n",
              "⎢          ⎥\n",
              "⎣72  91  98⎦"
            ]
          },
          "metadata": {
            "tags": []
          },
          "execution_count": 10
        }
      ]
    },
    {
      "cell_type": "code",
      "metadata": {
        "colab": {
          "base_uri": "https://localhost:8080/"
        },
        "id": "6FMMDKmaVOY1",
        "outputId": "1dc85059-bbbc-41c2-9221-8ed09f7682fc"
      },
      "source": [
        "# verify A = C*R\n",
        "A == C @ R"
      ],
      "execution_count": 12,
      "outputs": [
        {
          "output_type": "execute_result",
          "data": {
            "text/plain": [
              "True"
            ]
          },
          "metadata": {
            "tags": []
          },
          "execution_count": 12
        }
      ]
    },
    {
      "cell_type": "code",
      "metadata": {
        "id": "glYdLFYgABmL"
      },
      "source": [
        ""
      ],
      "execution_count": null,
      "outputs": []
    }
  ]
}